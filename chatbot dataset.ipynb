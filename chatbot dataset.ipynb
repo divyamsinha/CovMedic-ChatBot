{
 "cells": [
  {
   "cell_type": "code",
   "execution_count": 1,
   "metadata": {},
   "outputs": [],
   "source": [
    "import pandas as pd"
   ]
  },
  {
   "cell_type": "code",
   "execution_count": 2,
   "metadata": {},
   "outputs": [],
   "source": [
    "dataset = pd.read_csv('english.csv')"
   ]
  },
  {
   "cell_type": "code",
   "execution_count": 3,
   "metadata": {},
   "outputs": [],
   "source": [
    "import json"
   ]
  },
  {
   "cell_type": "code",
   "execution_count": 4,
   "metadata": {},
   "outputs": [],
   "source": [
    "# output = {\"intents\":[]}\n",
    "unique_intents = set()\n",
    "for value in dataset.values[:, [2,4]]:\n",
    "    unique_intents.add(value[0])"
   ]
  },
  {
   "cell_type": "code",
   "execution_count": 5,
   "metadata": {},
   "outputs": [
    {
     "data": {
      "text/plain": [
       "57"
      ]
     },
     "execution_count": 5,
     "metadata": {},
     "output_type": "execute_result"
    }
   ],
   "source": [
    "len(unique_intents)"
   ]
  },
  {
   "cell_type": "code",
   "execution_count": 6,
   "metadata": {},
   "outputs": [],
   "source": [
    "l = ['Mask', 'Refusal To Work', 'Status', 'Swimming Hall', 'Sick Employee','Not At Risk',\n",
    " 'Pandemic','How Many Infected','Hotline', 'Latest News','Pet', 'Infection Of Pets','Arranging Gathering',\n",
    " 'Cancelling Gathering']\n",
    "for i in l:\n",
    "    try:\n",
    "        unique_intents.remove(i)\n",
    "    except:\n",
    "        pass"
   ]
  },
  {
   "cell_type": "code",
   "execution_count": 7,
   "metadata": {},
   "outputs": [],
   "source": [
    "output = {\"intents\":[]}"
   ]
  },
  {
   "cell_type": "code",
   "execution_count": 8,
   "metadata": {},
   "outputs": [],
   "source": [
    "for class_ in unique_intents:\n",
    "    temp ={}\n",
    "    temp[\"tag\"] = class_\n",
    "    temp[\"response\"] = []\n",
    "    temp[\"context\"] = []\n",
    "    temp[\"patterns\"] = []\n",
    "    output[\"intents\"].append(temp)"
   ]
  },
  {
   "cell_type": "code",
   "execution_count": 9,
   "metadata": {},
   "outputs": [],
   "source": [
    "for value in dataset.values[:, [2,4]]:\n",
    "    intents = output[\"intents\"]\n",
    "    for intent in intents:\n",
    "        if intent[\"tag\"]==value[0]:\n",
    "            if value[1]!= '_':\n",
    "                intent[\"patterns\"].append(value[1])\n",
    "    "
   ]
  },
  {
   "cell_type": "code",
   "execution_count": 10,
   "metadata": {},
   "outputs": [
    {
     "ename": "NameError",
     "evalue": "name 'unique_classes' is not defined",
     "output_type": "error",
     "traceback": [
      "\u001b[1;31m---------------------------------------------------------------------------\u001b[0m",
      "\u001b[1;31mNameError\u001b[0m                                 Traceback (most recent call last)",
      "\u001b[1;32m<ipython-input-10-5d3a713ea9e1>\u001b[0m in \u001b[0;36m<module>\u001b[1;34m\u001b[0m\n\u001b[1;32m----> 1\u001b[1;33m \u001b[0munique_classes\u001b[0m\u001b[1;33m\u001b[0m\u001b[1;33m\u001b[0m\u001b[0m\n\u001b[0m",
      "\u001b[1;31mNameError\u001b[0m: name 'unique_classes' is not defined"
     ]
    }
   ],
   "source": [
    "unique_classes"
   ]
  },
  {
   "cell_type": "code",
   "execution_count": 42,
   "metadata": {},
   "outputs": [
    {
     "data": {
      "text/plain": [
       "16"
      ]
     },
     "execution_count": 42,
     "metadata": {},
     "output_type": "execute_result"
    }
   ],
   "source": [
    "len(output['intents'][2]['patterns'])"
   ]
  },
  {
   "cell_type": "code",
   "execution_count": 11,
   "metadata": {},
   "outputs": [
    {
     "data": {
      "text/plain": [
       "{'Actions At Home',\n",
       " 'Actions If At Risk',\n",
       " 'Border',\n",
       " 'Children',\n",
       " 'Citizen',\n",
       " 'Closed Shops',\n",
       " 'Contact With Infected',\n",
       " 'Coronavirus Versus Influenza',\n",
       " 'Curfew',\n",
       " 'Daycare',\n",
       " 'Doctor',\n",
       " 'Educating Children On Coronavirus',\n",
       " 'Employer',\n",
       " 'Fear',\n",
       " 'Gathering Precautions',\n",
       " 'Health Authority Recommendations',\n",
       " 'Illness',\n",
       " 'Incubation Period',\n",
       " 'Infected Twice',\n",
       " 'Infection Prevention',\n",
       " 'Infection Through Food',\n",
       " 'Methods of Transmission',\n",
       " 'Mortality Rate',\n",
       " 'People At Risk',\n",
       " 'Postponed Surgeries',\n",
       " 'Precautions',\n",
       " 'Pregnant',\n",
       " 'Public Spaces',\n",
       " 'Public Transport',\n",
       " 'Purchasing Groceries',\n",
       " 'Quarantine',\n",
       " 'Refusal To Travel',\n",
       " 'Returning From Travel',\n",
       " 'Sick Child',\n",
       " 'Strategy',\n",
       " 'Student',\n",
       " 'Symptoms',\n",
       " 'Testing',\n",
       " 'Treatment',\n",
       " 'Vacation',\n",
       " 'Visiting Elderly',\n",
       " 'What Do We Know About Coronavirus',\n",
       " 'What Is Coronavirus'}"
      ]
     },
     "execution_count": 11,
     "metadata": {},
     "output_type": "execute_result"
    }
   ],
   "source": [
    "unique_intents"
   ]
  },
  {
   "cell_type": "code",
   "execution_count": 70,
   "metadata": {},
   "outputs": [],
   "source": [
    "output[\"intents\"][5][\"response\"] = [\"Get rest and stay hydrated. Take over-the-counter medicines, such as acetaminophen, to help you feel better. Stay in touch with your doctor. Call before you get medical care.\"]"
   ]
  },
  {
   "cell_type": "code",
   "execution_count": 12,
   "metadata": {},
   "outputs": [
    {
     "data": {
      "text/plain": [
       "{'tag': 'Fear',\n",
       " 'response': [],\n",
       " 'context': [],\n",
       " 'patterns': ['Will I die?',\n",
       "  'how dangerous is coronvirus?',\n",
       "  'How fearful should I be of Coronavirus?',\n",
       "  'really much',\n",
       "  'Is coronavirus so serious? How worried should I be?',\n",
       "  'how scared should i be for coronavirus',\n",
       "  'How afraid should I be of Coronavirus?',\n",
       "  \"do I need to be scared? Trump isn't scared, why should I\",\n",
       "  'Do I need to be afraid of the outbreak?',\n",
       "  'How scared should I be of corona?',\n",
       "  'How serious we should be about Coronavirus?',\n",
       "  'how afraid should i be',\n",
       "  'Should I be afraid of the pandemia?',\n",
       "  'How afraid do I have to be for the Corona virus ',\n",
       "  'How serious i should be about coronavirus?',\n",
       "  'am i likely to end up in the hospital or die?',\n",
       "  'Should I be scared?',\n",
       "  'Is the coronavirus bad? ']}"
      ]
     },
     "execution_count": 12,
     "metadata": {},
     "output_type": "execute_result"
    }
   ],
   "source": [
    "output[\"intents\"][5]"
   ]
  },
  {
   "cell_type": "code",
   "execution_count": 43,
   "metadata": {},
   "outputs": [],
   "source": [
    "temp ={}\n",
    "temp[\"tag\"] = \"Report\"\n",
    "temp[\"response\"] = []\n",
    "temp[\"context\"] = []\n",
    "temp[\"patterns\"] = [\"Show me my covid report\", \"what is my report\", \"tell me my covid report\", \"report status\", \"give me my report\", \n",
    "                   \"am i positive or negative\", \"report\", \"status of my report\", 'i need my covid report']\n",
    "output[\"intents\"].append(temp)"
   ]
  },
  {
   "cell_type": "code",
   "execution_count": 44,
   "metadata": {},
   "outputs": [],
   "source": [
    "import json"
   ]
  },
  {
   "cell_type": "code",
   "execution_count": 45,
   "metadata": {},
   "outputs": [],
   "source": [
    "result= json.dumps(output)"
   ]
  },
  {
   "cell_type": "code",
   "execution_count": 46,
   "metadata": {},
   "outputs": [
    {
     "data": {
      "text/plain": [
       "'{\"intents\": [{\"tag\": \"Citizen\", \"response\": [], \"context\": [], \"patterns\": [\"waht should i do to minimise the spread?\", \"can i take an action to minimize the spead of coronavirus? \", \"As a conscious resident of the U.S. how can I mitigate the spread of the virus?\", \"how can I as an citizen minimise the spread of the virus\", \"How can I as a citizen do to minimize the spread of corona virus?\", \"How can I minimize the spread of Coronavirus?\", \"what can I do as a citizen to avoid spreading the virus\", \"Is tehre anything in particular I can do as a citizen to help coronavirus pass faster?\", \"How do I minimize the spread of Coronavirus\", \"I want to be a good citizen, what can I do to limit the spread of the virus\", \"How can I collaborate to reduce the pandemic? \", \"what can i do to minimize spreading the virus\", \"What can i do to minimise the spread of corona?\", \"do i need to quarantine\", \"What can I do to help with coronavirus? \"]}, {\"tag\": \"Incubation Period\", \"response\": [], \"context\": [], \"patterns\": [\"How long does it take for me to feel sick after I catch coronavirus?\", \"how long time does it take before i get infected until it is shown in a test?\", \"What is the incubation period of COVID-19?\", \"how long does it take for the virus to have an effect in my body?\", \"Please inform me about the incubation time for infection?\", \"How long does the virus incubate?\", \"What is the incubation period of Coronavirus?\", \"whats the incubation period\", \"How long make take to feel symptoms of having the virus?\", \"How long does it take before you get sick from Corona \", \"tell me about the incubation period\", \"How long does it take to have coronavirus symptoms? \", \"how long should i self-quarantine?\", \"How long does it take to get sick?\", \"How long is the period from getting the virus to becoming sick?_\", \"How long do you have until you show symptoms of corona? \"]}, {\"tag\": \"Purchasing Groceries\", \"response\": [], \"context\": [], \"patterns\": [\"Is it safe to go to the grocery store?\", \"can i still go shopping\", \"am I still allowed to go groceri shopping\", \"Can I purchase groceries?\", \"Is it OK to still go shopping?\", \"Can I still go to the grocery store?\", \"Can I go shopping food when locked down \", \"can i still buy groceries\", \"Am I allowed to do groceries? \", \"Can I do the grocery shopping?\", \"can i still get groceries\", \"Can i still do the groceries?\", \"what if i run out of toilet paper\", \"Is it still allowed to go out and buy groceries?\", \"Is it safe to buy food? \", \"Are supermarkets still open?\"]}, {\"tag\": \"What Is Coronavirus\", \"response\": [], \"context\": [], \"patterns\": [\"what is exactly coronavirus? \", \"Do you want to know what Coronavirus is?\", \"what is coronavirus\", \"What is coronavirus?\", \"what is it exactly and why do you get so sick?\", \"I need to know about the corona. What is it?\", \"What is COVID-19?\", \"What is the corona virus?\", \"what is the coronavirus\", \"What is Corona \", \"What is coronavirus?\", \"What does coronavirus mean?\", \"What is the definition of coronavirus?\", \"What is Covid-19?\", \"whats corona\", \"what\\'s carona_\", \"Is corona a virus?\", \"Can you explain me what is the Corona?\"]}, {\"tag\": \"Daycare\", \"response\": [], \"context\": [], \"patterns\": [\"my employe can not get her kids look after and I don\\'t know what to do?\", \"what if my employees can\\'t work because their kids are at home\", \"fire them\", \"as an employer. what can i do if an employee cant send children to school or daycare\", \"my employees are home with their kids these days and that clearly shows on their work, what can I do so it doesn\\'t ruin my business?\", \"What can I do if an employee is unable to get anyone to care for their child?\", \"Schools and daycares are closed due to the outbreak. What is my rights as an employer, when employees do not have the opportunity to have someone to look after their child? \", \"My employee has tried to get someone to care for their child, but has thus far been unsuccessful. What can I do as an employer?\", \"What can I do if my employees can\\\\u2019t work because of the schools are closed \", \"what can i do if my employee cant work beacuse no one can take care of their child\", \"what can I do if my employee cannot come to work because of his child\\'s school is closed due to coronavirus\", \"Schools are closed and someone in my team has no one to take care of his daughter. Can I do anything about it?\", \"What to do if my employee cannot work because the kids are not having kindergarten?\", \"someone in my office can\\'t work because they are babysitting\", \"our employee is saying that she cannot leave her child alone at home, we don\\'t know what to do\", \"What to do when employees have to stay with their kids? \", \"What to do if employee cannot find daycare\"]}, {\"tag\": \"Illness\", \"response\": [], \"context\": [], \"patterns\": [\"I\\'m sick wtf do i do?\", \"i dont know what to do now that I am sick\", \"what should I do if I feel sick?\", \"what should I do if I got infected with covid-19?_\", \"Steps I should take when I contract the virus\", \"what do i do if i fall sick\", \"What can I do if I have fallen ill?\", \"I\\'m sick what do i do\", \"What do I do if I get ill\", \"I\\'m sick, what do I do?\", \"What shall I do if I get sick?\", \"im sick!!! what am a supposed to do?\", \"What should I do if I feel symptoms?\", \"What do I do if I am getting ill \", \"What to do if i got sick?\", \"i have a cough but i don\\'t know if it\\'s corona\", \"I have some symptoms, how do I really know if I\\'ve got it?\", \"can I go to the hospital? \"]}, {\"tag\": \"Doctor\", \"response\": [], \"context\": [], \"patterns\": [\"at what point should I seek medical help?\", \"when should I go to the doctor+\", \"when should i see my doctor?\", \"I have started coughing, when should a call the doctor?\", \"When should I go to the doctor?\", \"What symptoms should I have before I visit my doctor?\", \"When can I go to the doctor?\", \"What symptoms do you have to have before you go to a medical doctor \", \"should i see a doctor\", \"If I get sick when I should see a doctor?\", \"Should I go to the doctor?\", \"When should i go to the doctor?\", \"When do I have to go to the doctor?\", \"should i get tested for corona? \", \"Do I go to the doctor if I have corona? \"]}, {\"tag\": \"People At Risk\", \"response\": [], \"context\": [], \"patterns\": [\"who is at risk of getting corona virus?\", \"all humans\", \"who is at risk getting the virus and hence become sick?\", \"who is especially prone to get sick\", \"Who are especially at risk of infection?\", \"who are particularly prone to infection and subsequent illness?\", \"Who is at risk when it comes to coronavirus?\", \"Who is especially at risk for catching Corona and get ill \", \"who is at risk of severe illness\", \"Who is at risk of getting infected and suffering from coronavirus?\", \"Who are really at risk?\", \"What group of people are of higher risk to get coronavirus?\", \"Who are at the highest risk of infection?\", \"who are most af risk of getting hospitalized due to covid-19\", \"What are the main risk groups for the disease?\", \"is grandma or grandpa in danger\", \"Which demographics are most prone to catch the disease? \", \"What are the risk groups for COVID-19? \", \"Am I at risk?_\"]}, {\"tag\": \"Actions If At Risk\", \"response\": [], \"context\": [], \"patterns\": [\"What to do if I\\'m one of the people with a risk profile?\", \"who should I avoid to not get corona?\", \"What should I do if I\\'m in an at risk group?\", \"send thoughts and prayers\", \"what do I do if I am in the the riskgroup\", \"What should I do if i\\'m a person who is more vulnerable than others\", \"What can I do if I am a part of an at risk group?\", \"How should I react if I\\'m part of the risk groups? \", \"I\\'m 85 old. What should I do?\", \"What do I do if I am at risk \", \"im at risk.. what do i do\", \"If I am in the risk group, what I shall do to protect myself?\", \"I\\'ve seen I\\'m in a risk group. what should I do?\", \"what should i do if i\\'m part of an at risk group\", \"What to do if i am a part of the risk group?\", \"What is the guidance for people in risk group?\", \"What precautions should I take if I am part of a risk group?\", \"i\\'m 28 am i gonna catch it\", \"I have a lung disease. What should I do?\", \"How to stay safe from corona virus if I am in a risk group?\"]}, {\"tag\": \"Strategy\", \"response\": [], \"context\": [], \"patterns\": [\"how will covid 19 be stopped?\", \"What is the current strategy\", \"watadarastage\", \"wht is the current startegy?\", \"what is the current strategy in my state\", \"What is the current strategy for COVID-19?\", \"What is the current strategy?\", \"Is there a current strategy from the government?\", \"What is the government\\'s current strategy regarding Coronavirus?\", \"What is the strategy now?\", \"what is the current strategy\", \"What\\\\u2019s the current strategy to prevent Corona from spreading \", \"What is the strategy against coronavirus?\", \"should i avoid people?\", \"How are we making sure the virus doesn\\\\u2019t not spread?\", \"How do we fight the coronavirus pandemic?\"]}, {\"tag\": \"Pregnant\", \"response\": [], \"context\": [], \"patterns\": [\"What to do as a pregnant woman?\", \"am I at risk if I am preganant and get corona?\", \"Should I be isolating if I am pregnant?\", \"buy diapers.\", \"What should I do if I am pregnant?\", \"What should a pregnant woman do to stay safe from the Coronavirus?\", \"what do i do if being pregnant?\", \"i\\'m having a baby, should I be worried?\", \"What can I do if I am pregnant?\", \"I\\'m pregnant, what are my precautions?\", \"I\\'m 36 weeks pregnant. Is there anything I need to do?\", \"I am pregnant what to do to protect myself \", \"what do i do if im pregnant\", \"I am pregnant, what shall I do to protect myself from the virus?\", \"I\\'m expecting a baby. what can I do?\", \"How should I behave if I am pregnant\", \"should i take extra precautions if im pregnant\", \"What to do if i am pregnant?\", \"i\\'ve got a baby on the way, what to do\", \"I am with child and don\\\\u2019t know what to do \", \"What do I do if I\\\\u2019m pregnant? Is corona virus dangerous for me? \"]}, {\"tag\": \"Children\", \"response\": [], \"context\": [], \"patterns\": [\"is my son at risk of being infected?\", \"what are the chances for a kid with corona to die?\", \"What is the risk to my children?\", \"yes, as their parents WILL die\", \"Are children at risk from this?\", \"What is the likelihood my children will contract Coronavirus?\", \"are kids in a high risk getting infected?\", \"are kids also part of the group of people more vulnerable to corona?\", \"are children at risk?\", \"Are children are particularly prone to infection?\", \"Do I have to worry about my child contracting the virus?\", \"Is children especially at risk catching Corona \", \"are children at risk of severe illness\", \"Are children at higher risk of Coronavirus?\", \"is there any risk for my kids?\", \"Does my children are in risk?\", \"should i send the kids to kindergarten\", \"Is coronavirus bas for children?\", \"should i worry about my kids?_\"]}, {\"tag\": \"Precautions\", \"response\": [], \"context\": [], \"patterns\": [\"What should I be careful with when travelling?\", \"how can i prevent getting corona while travelling?\", \"can i travel? _\", \"What do I need to do if I\\'m going away?\", \"don\\'t travel\", \"What do I need to do to be safe while traveling?\", \"what precautions should i make if travelling\", \"i\\'m going travelling, do I need to take any precautions?\", \"What precautions do I need to take if I am going travelling?\", \"I should I behave, if I\\'m travelling?\", \"Are there special precautions I have to take if I\\'m travelling abroad?\", \"I have to travel how do I protect myself \", \"what should i do if i HAVE to travel soon\", \"What shall I do if I need to travel?\", \"I\\'m going to do a trip. how can I protect myself during it?\", \"is my Easter flight going to get cancelled\", \"so do i need to wipe all doorknobs?_\", \"What to do if I have to travel during corona virus!\"]}, {\"tag\": \"Visiting Elderly\", \"response\": [], \"context\": [], \"patterns\": [\"Can I still visit my grandparents?\", \"can i still visit elderly in their home \", \"am I still allowed to visit my grandparents at their house or retirement home\", \"Can I visit elderly people?\", \"Is it OK for me still til visit senior citizens in their home or at their nursing homes?\", \"Can I still visit my nan in her home?\", \"Can I visit my grandma in the care center \", \"can i still visit my grandparents \", \"Is it safe to visit elderly people in their homes or carehouses?\", \"Can I visit my elders?\", \"Can i go to visit elderly people?\", \"Are visits to homes of elderly people or care houses banned?\", \"can i still visit my grandmother at her house?\", \"can i still visit elderly family\", \"can i see my grandma \", \"can we go and visit our granny?\", \"Can I visit my old father? \", \"Can I visit my older relatives during corona?\"]}, {\"tag\": \"Vacation\", \"response\": [], \"context\": [], \"patterns\": [\"can we reschedule a vacation for an employee due to the corona virus?\", \"can my employees reschedule their vacation because of covid 19?\", \"yes\", \"can agreed vacation be changed if an employee cant take vacation due to coronavirus\", \"can holiday plans be changed due to corona?\", \"Can an employee change vacation due to Coronavirus?\", \"An employee had planned her vacation, but she is not able to fulfill it due to the current corona situation. Can it be changed or rescheduled? \", \"Can I change my vacation schedule due to coronavirus\", \"Can scheduled vacation be changed if an employee is prevented from taking their vacation due to travel restrictions and such?\", \"Can you change your holiday because of Corona \", \"can i change my employee\\'s vacation to now?\", \"Can my employee changed already scheduled vacation because of coronavirus\", \"Can booked vacations be modified during the crisis?\", \"Does my vacation will changed due to coronavirus?\", \"i can\\'t go on holiday now, can i change my flight tickets?\", \"can employees re-schedule scheduled vacation?\", \"What are the vacation rules about the corona for companies?\", \"Can i postpone my vacation\"]}, {\"tag\": \"Infected Twice\", \"response\": [], \"context\": [], \"patterns\": [\"If someone has gotten the virus, can they catch it again?\", \"can a person get the infection more than one time?\", \"Can I get infected more than once?\", \"can I get sick again from coronoa\", \"Is it likely to be infected twice?\", \"Is it possible to get infected twice?\", \"Can I get infected more than once with coronavirus?\", \"can people get infected again\", \"Can you catch Corona more than once \", \"Can recovered people get the coronavirus again?\", \"Can I be reinfected? \", \"Is it possible to contract coronavirus more than once?\", \"Can i get infected twice?\", \"can someone get coronavirus multiple times?\", \"Can you catch the coronavirus twice?\", \"are there different strands of the virus? does one build immunity?\", \"Will I be immune?\", \"Can you get reinfected with the coronavirus? \", \"can I be infected twice?_\", \"can I be infected again?_\"]}, {\"tag\": \"Actions At Home\", \"response\": [], \"context\": [], \"patterns\": [\"Is there anything I need to do while at hom to be safe?\", \"how can i reduce risk at home\", \"what can I do at home to minimize the risk of getting sick\", \"Do I need to take some special actions at home to decrease the risk of contracting COVID-19?\", \"What can be done at home to minimize the risk of being infected with the virus?\", \"Do I have to perform particular actions at home to keep myself and my family safe?\", \"What do I have to do at home to minimize the risk of catching Corona \", \"what can i do at home to prevent being infected\", \"What can I do at home not to get infected?\", \"Being at home... can I do anything else to protect myself?\", \"Is there anything i can do to decrease the risk on COVID-19 infection?\", \"What shall I do at my home to decrease the risk of contracting coronavirus?\", \"What steps I can take at home to prevent coronavirus infection?\", \"should i disinfect everything at home?\", \"what can we do here to prevent the spread of it? at home?\", \"How can we prevent the virus to spread in our household? \", \"Do I need to wash my produce? What kind of disinfectant works against corona virus?\"]}, {\"tag\": \"Treatment\", \"response\": [], \"context\": [], \"patterns\": [\"is there a treatment for coronavirus\", \"what do the doctors do if i have it?\", \"how is covid19 treated?\", \"I\\'m sick. how can I treat corona from home\", \"How is Covid-19 treated?\", \"how is the disease treated\", \"Is there a treatment plan for coronavirus?\", \"How does the virus get treated?\", \"How can the Covid 19 been treated?\", \"how to treat covid19\", \"What do the doctors do to people with Corona \", \"What is the treatment for coronavirus?\", \"How infected people with coronavirus are treated?\", \"How coronavirus needs to be treated?\", \"is there a vaccine?\", \"Is there a cure for the virus?\"]}, {\"tag\": \"Infection Prevention\", \"response\": [], \"context\": [], \"patterns\": [\"how can I avoid being infected?\", \"how can I prevent getting infected with coronavirus?\", \"how can i prevent getting infected\", \"they say that masks don\\'t really help. What can I do to protect myself then? I need to do groceries and live.\", \"How can I prevent to be infected?\", \"Please tell me how I can avoid infection?\", \"How do I stop myself from getting coronavirus?\", \"How do I best avoid to be infected \", \"ho to prevent infection\", \"How can protected myself and not get infected? \", \"How can I protect myself?\", \"how do i make sure i don\\'t get infected\", \"What can i do to not get infected?\", \"What guidelines do I have to follow to avoid being infected?\", \"if i wash my hands am i safe?\", \"Do I need to wear a mask? How often should I wash my hands?\"]}, {\"tag\": \"Infection Through Food\", \"response\": [], \"context\": [], \"patterns\": [\"Can I catch coronavirus from eating takeout?\", \"can i get infected eating food?\", \"Can I contract Coronavirus through food?\", \"can I get sick through food if I get my food delivered\", \"Is it possible to get infected through food?\", \"can you get coronavirus from takeaway food?\", \"Is it possible to get infected with Coronavirus through food?\", \"can i get covid-19 from food\", \"Can I get the virus from the food I eat?\", \"Can you get Corona from eating take away \", \"Is it possible to get infected with coronavirus with food?\", \"can i get covid-19 from meat\", \"Can you catch COVID-19 from food?\", \"if i get takeaway am i at risk?\", \"Can I get infected by eating?\", \"Can you get corona virus from food?\", \"Can I get the virus eating?\"]}, {\"tag\": \"Educating Children On Coronavirus\", \"response\": [], \"context\": [], \"patterns\": [\"Should I tell my kid about corona?\", \"how can i teach my child about covid19\", \"my child is only 2 years old, how do I teach him to behave properly during corona\", \"Should I be educating the same way my child during the COVID-19?\", \"How do I teach my child about the corona virus?\", \"How can I speak to my children about the virus?\", \"How do I teach my child about Corona \", \"how do i talk to a kid about covid-19\", \"What shall I tell my children about coronavirus?\", \"How can explain to my girls how they should avoid infection?\", \"How can i educate my child under quarantine?\", \"How to talk to your child on coronavirus?\", \"my child is scared what do i tell him\", \"what can we tell to our 5-year-old daughter about COVID-19?\", \"How can I tell my son about the corona?\", \"What to tell my kids about coronavirus?\", \"What should I explain about coronavirus to my kids?\"]}, {\"tag\": \"Mortality Rate\", \"response\": [], \"context\": [], \"patterns\": [\"How often do people die from coronavirus?\", \"how highg is the mortality with covid19\", \"What is mortality rate of Coronavirus?\", \"how many dies from corona. in percentage\", \"What is the mortality due to the outbreak?\", \"What percentage of people die from coronavirus?\", \"What is the mortality rate of Coronavirus?\", \"how many die of covid-19\", \"How many people die because of the virus?\", \"How many out of a hundred people will die from Corona \", \"how many percent of infecet people die\", \"how many die of covid19\", \"How many people die from Coronavirus?\", \"What is the death rate?\", \"how many die on average of coronavirus\", \"how many have died worldwide?\", \"What\\\\u2019s the death rate of the corona?\", \"What is the mortality rate of the coronavirus? Is it worse than the flu?\", \"how many dies from it?\", \"how many dies from it?\", \"how many dies from the virus?_\"]}, {\"tag\": \"Contact With Infected\", \"response\": [], \"context\": [], \"patterns\": [\"What should I do because I touched someone who are sick with corona\", \"my friend was confirmed with coronavirus. what should I do? \", \"pray\", \"When I\\\\u2019ve been in contact with somebody who has the virus what should I do?\", \"Yes\", \"what do i do if a person in my family is tested positive for covid19\", \"What can I do if I have been in contact with an infected person for COVID-19?\", \"I was close to a person last week who now tells me she is sick woith corona. can I expect to be sick also?\", \"I have been close to a human who has been tested corona positive. What to do?\", \"I\\'ve shaken hands with someone who is Coronavirus positive, what should I do?\", \"What shall I do if I was in contact with  a sick person?\", \"my friend just tested positive and we hung out ealier this week. what do i do\", \"I been with an infected person. Should I do anything?\", \"I have been close to a person with Corona what do I do?\", \"What are recommendations for people who were in contact with someone infected with Coronavirus?\", \"I was in contact with someone infected with coronavirus, what shall I do now?\", \"What to do if i have been in touch with an infected person?\", \"What to do if you were potentially exposed to someone with coronavirus?\", \"my boyfriend is positive what do i do\", \"What to do if someone I\\\\u2019ve been in contact with has corona?\", \"What do I do if my neighboor has been tested positive for COVID?\"]}, {\"tag\": \"Symptoms\", \"response\": [], \"context\": [], \"patterns\": [\"what are symptoms of coronavirus infection? \", \"what are coronavirus symptoms? _\", \"what kind of symptomps do you have if infected by covis19\", \"what are the symptoms \", \"What are the symptoms for Coronavirus?\", \"If I am infected by the virus, which symptoms will I then experience?\", \"What are the symptoms of a nCov infection?\", \"What are the symptoms of having the disease? \", \"what the symptoms of the virus\", \"What symptoms do you have when infected with Corona \", \"What are the main symptoms of coronavirus?\", \"Where can I find a list of coronavirus symptoms?\", \"What are the symptoms of coronavirus?\", \"how do I know if I have Corona?\", \"What symptoms are there?\"]}, {\"tag\": \"Fear\", \"response\": [], \"context\": [], \"patterns\": [\"Will I die?\", \"how dangerous is coronvirus?\", \"How fearful should I be of Coronavirus?\", \"really much\", \"Is coronavirus so serious? How worried should I be?\", \"how scared should i be for coronavirus\", \"How afraid should I be of Coronavirus?\", \"do I need to be scared? Trump isn\\'t scared, why should I\", \"Do I need to be afraid of the outbreak?\", \"How scared should I be of corona?\", \"How serious we should be about Coronavirus?\", \"how afraid should i be\", \"Should I be afraid of the pandemia?\", \"How afraid do I have to be for the Corona virus \", \"How serious i should be about coronavirus?\", \"am i likely to end up in the hospital or die?\", \"Should I be scared?\", \"Is the coronavirus bad? \"]}, {\"tag\": \"What Do We Know About Coronavirus\", \"response\": [], \"context\": [], \"patterns\": [\"do we know how coronavirus impacts the humas \", \"what do you know about coroa\\\\u00b4navirus?\", \"what do you as a chatbot know about corona that I can\\'t read in the news?\", \"what do we know about Covid-19?\", \"What is the current knowledge around the corona outbreak?\", \"What do you know about coronavirus?\", \"What do you know about the corona?\", \"what do we know abt covid-19\", \"How much do we know about Corona \", \"What info about coronavirus you have?\", \"How much do we know about coronavirus?\", \"How much knowledge we already have about coronavirus?\", \"What do you know about covid-19?\", \"can i see the most recent statistics on contagion\", \"What can you tell me about the corona virus?\", \"What do we know about corona?_\"]}, {\"tag\": \"Coronavirus Versus Influenza\", \"response\": [], \"context\": [], \"patterns\": [\"are there any resemblances between coronavirus and influenza?  \", \"is covid19 the same as a normal flu?\", \"is it the same as a bad flu? \", \"is coronavirus the same that influenza?\", \"are Covid-19 and influenza the same?\", \"Is the corona outbreak equal to the flu?\", \"Isn\\'t corona and influenza just the same thing?\", \"Are coronavirus and influenza the same virus?\", \"isnt coronavirus just like to flu?\", \"Is Corona similar to influenza\", \"Is coronavirus equal to Influenza?\", \"Is coronavirus same as influenza?\", \"How does coronavirus compare to Influenza?\", \"is it more serious than the flu?\", \"Is corona different from a normal flu?\", \"Is coronavirus more dangerous than the flu? \", \"I\\'m confused, I don\\'t know if corona is related to influenza. Is it the same?\"]}, {\"tag\": \"Public Spaces\", \"response\": [], \"context\": [], \"patterns\": [\"What to do when outside?\", \"what are the rules to follow in public? \", \"How should I behave when I\\\\u2019m with other people in public?\", \"i would like to get recommendations on how to behave in the public\", \"How can I act in public spaces?\", \"i can\\'t stay home all day, what do I do out in public?\", \"What are the recommendations for entering a public space?\", \"Should I be doing anything in particular when I\\'m in public spaces?\", \"How should I behave in the public space?\", \"how should i act in public\", \"How should I behave in public?\", \"What do you recommend when taking public transport \", \"How should I act in public places?\", \"should i wear mask and gloves\", \"when out there in the street, what are the recommended actions to take?\", \"Should I avoid people when I am outside? \", \"Do I need a mask when I go outside? What are the rules for social distancing?\", \"can I go out?\"]}, {\"tag\": \"Testing\", \"response\": [], \"context\": [], \"patterns\": [\"Who should be tested?\", \"can anyone be tested for corona`\", \"Who should be tested?\", \"whomsulbetest\", \"who should get a test?\", \"Who should be tested?\", \"who should get tested\", \"Who should be tested?\", \"I want to inquire as to who should undergo testing\", \"Who is eligible for coronavirus test?\", \"who is being tested\", \"What people should be tested?\", \"Who has to be tested for Corona \", \"Who should be tested against coronavirus?\", \"does my family need to get tested? \", \"should everyone get tested\", \"Should I get my grandfather tested?\", \"Who gets tested for the coronavirus?\"]}, {\"tag\": \"Public Transport\", \"response\": [], \"context\": [], \"patterns\": [\"Is it safe to take the bus?\", \"can i still use publictransport\", \"is it a bad idea to use public transport\", \"What is the bus frequency during COVID-19?\", \"How can public transportation be used during the outbreak?\", \"Is it fine if I use public transport?\", \"Can I use public transport \", \"what should i do if i use public transportation\", \"Are buses and trains still running during coronavirus?\", \"can I use the tube during the coronavirus crisis?\", \"Can I use public transportation during the coronavirus outbreak?\", \"Is public transport working?\", \"what should i do if i travel by bus every day\", \"i take the train to work every day\", \"can i take the train?\", \"is it allowed to take buses or trains during this outage?\", \"May I commute via the metro train? \", \"Are the buses still running during COVID-19? \", \"What\\'s the problem of traveling by bus?\", \"What are the rules for using the metro?\", \"What are the rules for using the public transport?\"]}, {\"tag\": \"Refusal To Travel\", \"response\": [], \"context\": [], \"patterns\": [\"Can an employee say that they dont want to travel because of coronavirus?\", \"Can an employee say no to travelling for work because of the corona?\", \"are my employees allowed to refuse travelling because of corona?\", \"they can refuse unless they want to keep their job.\", \"can an eomployee fefuse to travel because of coronavirus\", \"one of my guys refuses to go abroad, can he refuse to do that?\", \"Can an employee refuse to travel due to Coronavirus?\", \"Are my employees allowed to deny business related travels due to the outbreak? \", \"can an employee be forced to travel for work during coronavirus\", \"Is ok for an employee to refuse to travel \", \"can my employee refuse to travel?\", \"Does en employee have a right to refuse to travel for work?\", \"Can any of my workers refuse to travel during the pandemic?\", \"Can my employee refuse to travel because of coronavirus?\", \"Can my employee say no to travel due to coronavirus?\", \"Can Employees Refuse To Travel Out Of Fear Of Contracting coronavirus?\", \"we have a business trip to florida but an employee is scared to come\", \"can employees refuse to travel in this period? Can we force them to do so?\", \"Can you make employees travel for work during corona virus?\", \"Rules for work travel during corona\", \"Can anyone in my team refuse to travel during the pandemia?\"]}, {\"tag\": \"Health Authority Recommendations\", \"response\": [], \"context\": [], \"patterns\": [\"What should I do?\", \"what is the government recommending?\", \"what are the heath authorities recommendations in denmark? \", \"What are the recommendations of our health authorities?\", \"what are the recommendations by the authorities\", \"What are the Health Authority recommendations?\", \"what do the health authorities command\", \"What is the recommendations of the Board of Health?\", \"What does the health authority recommend?\", \"What are the recommendations of Health Authority?\", \"what does the health authority reccomend\", \"What are the recommendations?\", \"What isPublic Health Service recommendation \", \"What Health authorities recommends?\", \"what does the government recommend to do?\", \"What are the health recommendations for coronavirus?\"]}, {\"tag\": \"Returning From Travel\", \"response\": [], \"context\": [], \"patterns\": [\"I have come back from travelling and I am not sure what to do?\", \"what should i do after getting back home from another country? \", \"What do I need to do if I\\'m coming back home from another country?\", \"pray\", \"Do I need to tell a doctor or health care provider if I just came back from France?\", \"what do I do if i am returning from abroad?\", \"what do I need to do when I retun from a nother country \", \"What can I do if I am returning from travelling abroad?\", \"Which rules do I have to follow, when returning from a foreign country?\", \"I\\'ve just returned from [country], is there anything special I should be aware of or something I should do?\", \"I am coming back from abroad what do I do to avoid infection people \", \"i just came home from traveling. what should i do\", \"What shall I do if I am coming back from abroad?\", \"I\\'m coming back from a trip. What should I do?\", \"i just got home from another country. what do i do\", \"i\\'m returning from another country. what should i do\", \"What to do if i am coming back home from abroad?\", \"i just came back from france, can i see my sister\", \"Do I have to go into quarantine if I come back home from abroad? Is it mandatory?\"]}, {\"tag\": \"Quarantine\", \"response\": [], \"context\": [], \"patterns\": [\"what should a person do when under quaranteen?\", \"if one my employees has corona, does he have to work from home\", \"fire them\", \"what do i do as an employer if one of staff is in querantine\", \"my employee is under quarantine, what now?\", \"What can I do if one of my employees is under quarantine?\", \"What do I do as an employer, when one of my employees is in quarantine\", \"One of my employees has been quarantined as per the recommendation of the government/health services, what can I do?\", \"my emplyee is in quarantine. what do i do\", \"What do I have to do for an employee in  quarantine \", \"What is the procedure if one of my employees is under quarantine? \", \"One of my employees is lockdown under quarantine. How do I manage the situation?\", \"one of my employees have been put inder quarantine. now what\", \"What to do if my employee is undert quaranteen?\", \"my colleague is in lockdown, when can he be back in the office?\", \"one of us is under quarantine, we would like to know how to proceed\", \"What do I about my employees that are in quarantine? Can they still work? \", \"What can i demand of an employee under quarantine\"]}, {\"tag\": \"Student\", \"response\": [], \"context\": [], \"patterns\": [\"yes\", \"How can I continue my education during the pandemic?\", \"i would like information for students during the pandemi\", \"i am a student, how will you advice me in these times?\", \"What are the recommendations for the students during COVID-19?\", \"Where do I find info and recommendations for student during an outbreak?\", \"As a student, what can I do?\", \"I am a student what do I do about exams \", \"what am i suppsed to do - im a student\", \"How can I find recommendations for students during Coronavirus outbreak?\", \"As an student... what are the recommendations for me during the crisis?\", \"what are the reccomendations for students\", \"can you tell me some informationabout student reccomendations\", \"If i am a student will i have classes?\", \"What should students do during coronavirus?\", \"do i go to classes at uni\", \"what am I supposed to do as a student?\", \"I am a student, is it ok to study in groups?\", \"Are schools still open? What should I do as a student with coronavirus\", \"Should i go to school?\"]}, {\"tag\": \"Sick Child\", \"response\": [], \"context\": [], \"patterns\": [\"What do I need to do with my kid has fever?\", \"what do i do if my kid is sick\", \"my child is sick, how do I know if it is corona?\", \"What can I do if my child is sick?\", \"What do I do if my child gets ill?\", \"My child is sick, should I be doing something in particular?\", \"What do I do if my child gets sick \", \"my kid is sick.. what should i do\", \"My child is sick, what shall I do? \", \"My girl is sick. how can I take care of her?\", \"What can I do if my child gets sick?\", \"Is there some special procedure for people whose kids got infected with coronavirus?\", \"What to do if my child is at risk?\", \"How should I look after my child that is infected with coronavirus?\", \"my kid is coughing, does he need to see the doctor or to be taken to the hospital\", \"So... What do we do if our daughter gets it?\", \"My kid may be sick from corona. What should I do?\", \"What to do if my kid got corona?\"]}, {\"tag\": \"Gathering Precautions\", \"response\": [], \"context\": [], \"patterns\": [\"Is there anyhting I can do to prevent spread of the virus during my party?\", \"what are the rules to follow when scheduling a meeting? \", \"make sure to shoot them all afterwards\", \"what precorsiens do i have to make if i am hosting an event\", \"I am arranging a gathering for 20 bridge game members. can I still go through with the event?\", \"What precautions can I take when arranging a gathering of people?\", \"As an event organizer, what actions do I need to take?\", \"Which precautions should I take if I\\'m arranging a party?\", \"what can i do to decrease the spread of the virus during my gathering\", \"What shall I do when having a wedding \", \"What are the recommendations if someone organizes a gathering of people?\", \"How can I organise an event?\", \"What precautions are recommended for people who organize a gathering of people?\", \"Are there any measures I can take when organizing a gathering of people?\", \"if i have a dinner at my place do we need to be 2m apart?\", \"what are the good directives when organizing a meeting?\", \"How do I keep a gathering of people safe? \"]}, {\"tag\": \"Closed Shops\", \"response\": [], \"context\": [], \"patterns\": [\"What\\'s stores are closed?\", \"what kind of stores are closed due to covid19\", \"which shops are closed these days?\", \"Which kinds of shops are closed due to Coronavirus?\", \"Which shops are closed due to the corona?\", \"Which shops are still closed?\", \"What shops has been closed during the lockdown  \", \"which shops are closed?\", \"What shops are closed during Coronavirus pandemic?\", \"what stores are closed during the pandemic?\", \"are electronic stores closed due to coronavirus\", \"will variety stores close due to covid-19\", \"will regular stores close due to covid-19\", \"which shops will close?\", \"What stores are shut down during coronavirus?\", \"Which shops are closed due to corona?\", \"What stores are shut down?\", \"can i still buy ice cream\", \"Are there any shops open right now?\", \"What kind of shops are still allowed CODID-19?\"]}, {\"tag\": \"Methods of Transmission\", \"response\": [], \"context\": [], \"patterns\": [\"how can i get infected with Coronavirus? \", \"how do i get it?\", \"how does coronavirus infect?\", \"how does it infect people\", \"How is Coronavirus transmitted?\", \"How is the disease transmitted?\", \"How does the virus get transmitted?\", \"How is the coronavirus transmitted?\", \"how is it transmitted\", \"How do you get infected by Corona \", \"How coronavirus transmits from person to person?\", \"How do you catch Corona _\", \"How can coronavirus be transmitted?\", \"can i catch it if i speak to someone?\", \"How does the virus travel from people to people?\"]}, {\"tag\": \"Report\", \"response\": [], \"context\": [], \"patterns\": [\"Show me my covid report\", \"what is my report\", \"tell me my covid report\", \"report status\", \"give me my report\", \"am i positive or negative\", \"report\", \"status of my report\", \"i need my covid report\"]}]}'"
      ]
     },
     "execution_count": 46,
     "metadata": {},
     "output_type": "execute_result"
    }
   ],
   "source": [
    "result"
   ]
  },
  {
   "cell_type": "code",
   "execution_count": 47,
   "metadata": {},
   "outputs": [],
   "source": [
    "file = open('dataset.json', 'w')"
   ]
  },
  {
   "cell_type": "code",
   "execution_count": 48,
   "metadata": {},
   "outputs": [
    {
     "data": {
      "text/plain": [
       "37135"
      ]
     },
     "execution_count": 48,
     "metadata": {},
     "output_type": "execute_result"
    }
   ],
   "source": [
    "file.write(result)"
   ]
  },
  {
   "cell_type": "code",
   "execution_count": 13,
   "metadata": {},
   "outputs": [],
   "source": [
    "import json"
   ]
  },
  {
   "cell_type": "code",
   "execution_count": null,
   "metadata": {},
   "outputs": [],
   "source": [
    "output_exp = json"
   ]
  }
 ],
 "metadata": {
  "kernelspec": {
   "display_name": "Python 3",
   "language": "python",
   "name": "python3"
  },
  "language_info": {
   "codemirror_mode": {
    "name": "ipython",
    "version": 3
   },
   "file_extension": ".py",
   "mimetype": "text/x-python",
   "name": "python",
   "nbconvert_exporter": "python",
   "pygments_lexer": "ipython3",
   "version": "3.7.4"
  }
 },
 "nbformat": 4,
 "nbformat_minor": 2
}
